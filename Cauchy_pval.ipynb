{
  "nbformat": 4,
  "nbformat_minor": 0,
  "metadata": {
    "colab": {
      "name": "Untitled0.ipynb",
      "provenance": []
    },
    "kernelspec": {
      "name": "python3",
      "display_name": "Python 3"
    },
    "language_info": {
      "name": "python"
    }
  },
  "cells": [
    {
      "cell_type": "code",
      "execution_count": null,
      "metadata": {
        "id": "kdD9eyxm00AG"
      },
      "outputs": [],
      "source": [
        "import csv\n",
        "from mpmath import mp \n",
        "import numpy as np\n",
        "mp.prec = 336 # binary precision \n",
        "mp.dps = 250 # decimal precision \n",
        "\n",
        "def Cauchy_p_calculation(input_name, output_name):\n",
        "    my_data = np.genfromtxt(input_name, delimiter=',')\n",
        "    p_values = my_data[1:]\n",
        "    output = []\n",
        "    T_list = []\n",
        "    for i in range(len(p_values)):\n",
        "        pval = p_values[i]\n",
        "        pval = pval[np.logical_not(np.isnan(pval))]\n",
        "        num_pvalue = len(pval)\n",
        "        T1 = [(mp.fdiv(mp.mpf(1),mp.mpf(num_pvalue)))*mp.tan((mp.fsub(mp.mpf('0.5'), mp.mpf(p)))*mp.pi) for p in pval]\n",
        "        T = sum(T1)\n",
        "        p_cauchy = mp.fsub(mp.mpf('0.5'),(mp.atan(T)/mp.pi))\n",
        "        p_cauchy\n",
        "        output.append(p_cauchy)\n",
        "        T_list.append(T)\n",
        "        rounded = [float(mp.nstr(p, 5)) for p in output]\n",
        "        \n",
        "\n",
        "        with open(output_name, \"w+\", newline = '') as file: \n",
        "            writer = csv.writer(file)\n",
        "            for (element1, element2) in zip(T_list, rounded):\n",
        "                writer.writerow([element1, element2])\n"
      ]
    },
    {
      "cell_type": "code",
      "source": [
        "# read from directory and compute Cauchy p-values \n",
        "import os\n",
        "file_dir = \"file_dir\"\n",
        "output_dir = \"output_dir\"\n",
        "if not os.path.exists(output_dir):\n",
        "    os.mkdir(output_dir)\n",
        "file_names = os.listdir(file_dir)\n",
        "\n",
        "for file in file_names:\n",
        "    Cauchy_p_calculation(input_name = file_dir+file, \n",
        "                        output_name = output_dir+file)"
      ],
      "metadata": {
        "id": "M3hTMAMJ02II"
      },
      "execution_count": null,
      "outputs": []
    }
  ]
}